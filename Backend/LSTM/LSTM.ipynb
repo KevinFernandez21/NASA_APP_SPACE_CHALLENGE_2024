{
 "cells": [
  {
   "cell_type": "code",
   "execution_count": null,
   "metadata": {},
   "outputs": [],
   "source": [
    "import os\n",
    "import pandas as pd\n",
    "\n",
    "# Ruta de la carpeta donde están todos tus CSVs\n",
    "carpeta_csv = \"ruta_a_tu_carpeta/Data\"  # Cambia por tu ruta\n",
    "\n",
    "# Crear una lista vacía para almacenar los DataFrames\n",
    "dataframes = []\n",
    "\n",
    "# Leer todos los archivos CSV en la carpeta y combinarlos\n",
    "for archivo in os.listdir(carpeta_csv):\n",
    "    if archivo.endswith(\".csv\"):\n",
    "        df = pd.read_csv(os.path.join(carpeta_csv, archivo))\n",
    "        dataframes.append(df)\n",
    "\n",
    "# Combinar todos los DataFrames en uno solo\n",
    "df_completo = pd.concat(dataframes, ignore_index=True)\n",
    "\n",
    "# Visualizar las primeras filas\n",
    "print(df_completo.head())"
   ]
  },
  {
   "cell_type": "code",
   "execution_count": null,
   "metadata": {},
   "outputs": [],
   "source": [
    "# Características (amplitud de la señal)\n",
    "X = df_completo[['amplitude']].values  # Convertir a un array de Numpy\n",
    "\n",
    "# Etiquetas (ruido o sismo)\n",
    "y = df_completo['label'].values  # 0 para ruido, 1 para sismo\n",
    "\n",
    "# Normalizar los datos\n",
    "from sklearn.preprocessing import MinMaxScaler\n",
    "\n",
    "scaler = MinMaxScaler(feature_range=(0, 1))\n",
    "X_scaled = scaler.fit_transform(X)\n",
    "\n",
    "# Dividir en segmentos (puedes ajustar el tamaño de la ventana según tus datos)\n",
    "from sklearn.model_selection import train_test_split\n",
    "\n",
    "# Usar una ventana de tiempo para dividir los datos en secuencias\n",
    "def crear_secuencias(X, y, ventana):\n",
    "    X_seq, y_seq = [], []\n",
    "    for i in range(len(X) - ventana):\n",
    "        X_seq.append(X[i:i + ventana])\n",
    "        y_seq.append(y[i + ventana])\n",
    "    return np.array(X_seq), np.array(y_seq)\n",
    "\n",
    "# Definir el tamaño de la ventana (ejemplo: 100)\n",
    "ventana_tiempo = 100\n",
    "X_seq, y_seq = crear_secuencias(X_scaled, y, ventana_tiempo)\n",
    "\n",
    "# Dividir en conjunto de entrenamiento y prueba\n",
    "X_train, X_test, y_train, y_test = train_test_split(X_seq, y_seq, test_size=0.2, random_state=42)\n",
    "\n",
    "print(f\"Forma de los datos de entrenamiento: {X_train.shape}, {y_train.shape}\")\n",
    "print(f\"Forma de los datos de prueba: {X_test.shape}, {y_test.shape}\")"
   ]
  },
  {
   "cell_type": "code",
   "execution_count": null,
   "metadata": {},
   "outputs": [],
   "source": [
    "from tensorflow.keras.models import Sequential\n",
    "from tensorflow.keras.layers import LSTM, Dense, Dropout\n",
    "\n",
    "# Construir el modelo LSTM\n",
    "model = Sequential()\n",
    "\n",
    "# Primera capa LSTM\n",
    "model.add(LSTM(units=50, return_sequences=True, input_shape=(X_train.shape[1], 1)))\n",
    "model.add(Dropout(0.2))  # Regularización para evitar overfitting\n",
    "\n",
    "# Segunda capa LSTM\n",
    "model.add(LSTM(units=50, return_sequences=False))\n",
    "model.add(Dropout(0.2))\n",
    "\n",
    "# Capa de salida\n",
    "model.add(Dense(units=1, activation='sigmoid'))  # Usar 'sigmoid' para clasificación binaria\n",
    "\n",
    "# Compilar el modelo\n",
    "model.compile(optimizer='adam', loss='binary_crossentropy', metrics=['accuracy'])\n",
    "\n",
    "# Mostrar la arquitectura del modelo\n",
    "model.summary()"
   ]
  },
  {
   "cell_type": "code",
   "execution_count": null,
   "metadata": {},
   "outputs": [],
   "source": [
    "# Entrenar el modelo LSTM\n",
    "history = model.fit(X_train, y_train, epochs=10, batch_size=64, validation_data=(X_test, y_test))\n",
    "\n",
    "# Evaluar el modelo en el conjunto de prueba\n",
    "test_loss, test_accuracy = model.evaluate(X_test, y_test)\n",
    "print(f'Pérdida en conjunto de prueba: {test_loss}')\n",
    "print(f'Exactitud en conjunto de prueba: {test_accuracy}')"
   ]
  },
  {
   "cell_type": "code",
   "execution_count": null,
   "metadata": {},
   "outputs": [],
   "source": [
    "model.save('modelo_lstm_sismos.h5')"
   ]
  }
 ],
 "metadata": {
  "language_info": {
   "name": "python"
  }
 },
 "nbformat": 4,
 "nbformat_minor": 2
}
