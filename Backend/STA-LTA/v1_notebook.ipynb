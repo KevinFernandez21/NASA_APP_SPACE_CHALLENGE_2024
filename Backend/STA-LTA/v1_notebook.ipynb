{
 "cells": [
  {
   "cell_type": "code",
   "execution_count": null,
   "metadata": {},
   "outputs": [],
   "source": [
    "# Import libraries\n",
    "import numpy as np\n",
    "import pandas as pd\n",
    "from obspy import read\n",
    "from datetime import datetime, timedelta\n",
    "import matplotlib.pyplot as plt\n",
    "import os\n",
    "from scipy import signal\n",
    "from matplotlib import cm\n",
    "from obspy.signal.invsim import cosine_taper\n",
    "from obspy.signal.filter import highpass\n",
    "from obspy.signal.trigger import classic_sta_lta, trigger_onset"
   ]
  },
  {
   "cell_type": "code",
   "execution_count": 6,
   "metadata": {},
   "outputs": [],
   "source": [
    "cat_directory = '../../../data/lunar/training/catalogs/'\n",
    "cat_file = cat_directory + 'apollo12_catalog_GradeA_final.csv'\n",
    "cat = pd.read_csv(cat_file)\n",
    "cat"
   ]
  },
  {
   "cell_type": "code",
   "execution_count": 7,
   "metadata": {},
   "outputs": [],
   "source": [
    "row = cat.iloc[20]\n",
    "arrival_time = datetime.strptime(row['time_abs(%Y-%m-%dT%H:%M:%S.%f)'],'%Y-%m-%dT%H:%M:%S.%f')\n",
    "arrival_time"
   ]
  },
  {
   "cell_type": "code",
   "execution_count": 8,
   "metadata": {},
   "outputs": [],
   "source": [
    "# If we want the value of relative time, we don't need to use datetime\n",
    "arrival_time_rel = row['time_rel(sec)']\n",
    "arrival_time_rel"
   ]
  },
  {
   "cell_type": "code",
   "execution_count": 9,
   "metadata": {},
   "outputs": [],
   "source": [
    "# Let's also get the name of the file\n",
    "test_filename = row.filename\n",
    "test_filename"
   ]
  },
  {
   "cell_type": "code",
   "execution_count": 10,
   "metadata": {},
   "outputs": [],
   "source": [
    "data_directory = '../../../data/lunar/training/data/S12_GradeA/xa.s12.00.mhz.1971-04-13HR02_evid00029.mseed'\n",
    "mseed_file = f'{data_directory}{test_filename}.mseed'\n",
    "st = read(data_directory)\n",
    "st"
   ]
  },
  {
   "cell_type": "code",
   "execution_count": 11,
   "metadata": {},
   "outputs": [],
   "source": [
    "tr = st.traces[0].copy()\n",
    "tr_times = tr.times()\n",
    "tr_data = tr.data\n",
    "\n",
    "# Start time of trace (another way to get the relative arrival time using datetime)\n",
    "starttime = tr.stats.starttime.datetime\n",
    "arrival = (arrival_time - starttime).total_seconds()\n",
    "arrival"
   ]
  },
  {
   "cell_type": "code",
   "execution_count": 12,
   "metadata": {},
   "outputs": [],
   "source": [
    "# Set the minimum frequency\n",
    "minfreq = 0.5\n",
    "maxfreq = 1.0\n",
    "\n",
    "# Going to create a separate trace for the filter data\n",
    "st_filt = st.copy()\n",
    "st_filt.filter('bandpass',freqmin=minfreq,freqmax=maxfreq)\n",
    "tr_filt = st_filt.traces[0].copy()\n",
    "tr_times_filt = tr_filt.times()\n",
    "tr_data_filt = tr_filt.data"
   ]
  },
  {
   "cell_type": "code",
   "execution_count": 13,
   "metadata": {},
   "outputs": [],
   "source": [
    "f, t, sxx = signal.spectrogram(tr_data_filt, tr_filt.stats.sampling_rate)"
   ]
  },
  {
   "cell_type": "code",
   "execution_count": 14,
   "metadata": {},
   "outputs": [],
   "source": [
    "# Plot the time series and spectrogram\n",
    "fig = plt.figure(figsize=(10, 10))\n",
    "ax = plt.subplot(2, 1, 1)\n",
    "# Plot trace\n",
    "ax.plot(tr_times_filt,tr_data_filt)\n",
    "\n",
    "# Mark detection\n",
    "ax.axvline(x = arrival, color='red',label='Detection')\n",
    "ax.legend(loc='upper left')\n",
    "print(f'Arrival time: {arrival}')\n",
    "# Make the plot pretty\n",
    "ax.set_xlim([min(tr_times_filt),max(tr_times_filt)])\n",
    "ax.set_ylabel('Velocity (m/s)')\n",
    "ax.set_xlabel('Time (s)')\n",
    "\n",
    "ax2 = plt.subplot(2, 1, 2)\n",
    "vals = ax2.pcolormesh(t, f, sxx, cmap=cm.jet, vmax=5e-17)\n",
    "ax2.set_xlim([min(tr_times_filt),max(tr_times_filt)])\n",
    "ax2.set_xlabel(f'Time (Day Hour:Minute)', fontweight='bold')\n",
    "ax2.set_ylabel('Frequency (Hz)', fontweight='bold')\n",
    "ax2.axvline(x=arrival, c='red')\n",
    "cbar = plt.colorbar(vals, orientation='horizontal')\n",
    "cbar.set_label('Power ((m/s)^2/sqrt(Hz))', fontweight='bold')"
   ]
  },
  {
   "cell_type": "markdown",
   "metadata": {},
   "source": [
    "# V3"
   ]
  },
  {
   "cell_type": "code",
   "execution_count": 15,
   "metadata": {},
   "outputs": [],
   "source": [
    "from obspy.signal.trigger import classic_sta_lta, trigger_onset\n",
    "import matplotlib.pyplot as plt\n",
    "\n",
    "# Trace sampling frequency\n",
    "df = tr.stats.sampling_rate\n",
    "\n",
    "# Apply a bandpass filter before the analysis (optional)\n",
    "tr.filter('bandpass', freqmin=1.0, freqmax=10.0)\n",
    "\n",
    "# STA/LTA window lengths in seconds (adjusted)\n",
    "sta_len = 300  # Short-term window, increased to smooth the response\n",
    "lta_len = 1200  # Long-term window, increased to smooth the response\n",
    "\n",
    "# Execute classic STA/LTA\n",
    "cft = classic_sta_lta(tr.data, int(sta_len * df), int(lta_len * df))\n",
    "\n",
    "# Define thresholds for detection (adjusted)\n",
    "threshold_on = 3.0  # Increase the activation threshold\n",
    "threshold_off = 1.0  # Adjust the deactivation threshold\n",
    "\n",
    "# Detect events\n",
    "on_off = trigger_onset(cft, threshold_on, threshold_off)\n",
    "\n",
    "# Merge close detections (if the difference between them is less than a certain time)\n",
    "min_gap = 1000  # Number of samples between detected events to merge them\n",
    "merged_on_off = []\n",
    "current_event = on_off[0]\n",
    "for i in range(1, len(on_off)):\n",
    "    if on_off[i][0] - current_event[1] < min_gap:\n",
    "        current_event[1] = on_off[i][1]  # Merge events\n",
    "    else:\n",
    "        merged_on_off.append(current_event)\n",
    "        current_event = on_off[i]\n",
    "merged_on_off.append(current_event)\n",
    "\n",
    "# Visualize the characteristic function and the detections\n",
    "fig, ax = plt.subplots(2, 1, figsize=(12, 6))\n",
    "\n",
    "# Signal plot with detections\n",
    "ax[0].plot(tr.times(), tr.data, 'k')\n",
    "for start, end in merged_on_off:\n",
    "    # Convert indeces to time in seconds\n",
    "    start_time = start / df\n",
    "    end_time = end / df\n",
    "    \n",
    "    # Highlight the detected interval\n",
    "    ax[0].axvspan(tr.times()[start], tr.times()[end], color='red', alpha=0.3)\n",
    "    \n",
    "    # Record the start and end time\n",
    "    ax[0].text(tr.times()[start], tr.data[start], f'Start: {start_time:.2f}s', color='green', fontsize=8, verticalalignment='bottom')\n",
    "    ax[0].text(tr.times()[end], tr.data[end], f'End: {end_time:.2f}s', color='blue', fontsize=8, verticalalignment='top')\n",
    "\n",
    "ax[0].set_xlim([min(tr.times()), max(tr.times())])\n",
    "ax[0].set_xlabel('Time (s)')\n",
    "ax[0].set_ylabel('Amplitude')\n",
    "\n",
    "# Plot of the STA/LTA characteristic function\n",
    "ax[1].plot(tr.times(), cft)\n",
    "ax[1].axhline(y=threshold_on, color='r', linestyle='--')\n",
    "ax[1].axhline(y=threshold_off, color='b', linestyle='--')\n",
    "ax[1].set_xlim([min(tr.times()), max(tr.times())])\n",
    "ax[1].set_xlabel('Time (s)')\n",
    "ax[1].set_ylabel('Characteristic function')\n",
    "\n",
    "plt.show()"
   ]
  },
  {
   "cell_type": "markdown",
   "metadata": {},
   "source": [
    "# V2"
   ]
  },
  {
   "cell_type": "code",
   "execution_count": 16,
   "metadata": {},
   "outputs": [],
   "source": [
    "i=0\n",
    "for start_test,end_test in merged_on_off:\n",
    "    i+=1\n",
    "    print(f'{i}. Event detected at {start_test/df} s and ended at {end_test/df} s')"
   ]
  }
 ],
 "metadata": {
  "kernelspec": {
   "display_name": "Python 3",
   "language": "python",
   "name": "python3"
  },
  "language_info": {
   "codemirror_mode": {
    "name": "ipython",
    "version": 3
   },
   "file_extension": ".py",
   "mimetype": "text/x-python",
   "name": "python",
   "nbconvert_exporter": "python",
   "pygments_lexer": "ipython3",
   "version": "3.12.3"
  }
 },
 "nbformat": 4,
 "nbformat_minor": 2
}
